{
  "nbformat": 4,
  "nbformat_minor": 0,
  "metadata": {
    "colab": {
      "name": "Los Angeles Crime Data Analysis Using Pandas.ipynb",
      "provenance": [],
      "authorship_tag": "ABX9TyN79pjNvdtGhzN1r1w2J7Sx",
      "include_colab_link": true
    },
    "kernelspec": {
      "name": "python3",
      "display_name": "Python 3"
    }
  },
  "cells": [
    {
      "cell_type": "markdown",
      "metadata": {
        "id": "view-in-github",
        "colab_type": "text"
      },
      "source": [
        "<a href=\"https://colab.research.google.com/github/fabiodotcom/Data-Science/blob/main/Los_Angeles_Crime_Data_Analysis_Using_Pandas.ipynb\" target=\"_parent\"><img src=\"https://colab.research.google.com/assets/colab-badge.svg\" alt=\"Open In Colab\"/></a>"
      ]
    },
    {
      "cell_type": "markdown",
      "metadata": {
        "id": "yYLCXmfhWoKx"
      },
      "source": [
        "# **Los Angeles Crime Data Analysis Using Pandas**\r\n",
        "\r\n",
        "![](https://drive.google.com/uc?export=view&id=1kesXdyR90PxKSJ0U9vhCGGqbRmAx3oHQ)\r\n",
        "\r\n",
        "Photo by [Luca Micheli](https://unsplash.com/@lucamicheli) on [Unplash](https://unsplash.com/photos/ewspoqBfALg)\r\n",
        "\r\n",
        "\r\n",
        "During my studies in Data Science using Pandas, I've reached a topic with discussions about crime analysis in the metropolis around the world. After some researches to find open data, I've decided to explore the data in Los Angeles city. Localized in the south of California, it's the second more peopled city in the United States (only behind New York), it's the center of the cinema and television industry.\r\n",
        "\r\n",
        "[Pandas](https://pandas.pydata.org/) it's one of the most famous libraries for data science in Python, It's a powerful data analysis with many tools and methods to handle data manipulation.\r\n",
        "\r\n",
        "\r\n",
        "\r\n",
        "\r\n"
      ]
    },
    {
      "cell_type": "markdown",
      "metadata": {
        "id": "JEY0sIbd5rl_"
      },
      "source": [
        "## **About the Dataset**\r\n",
        "\r\n",
        "The dataset that will be presented in the next lines is available on the [Los Angeles Open Data](https://data.lacity.org), for this purpose, I've used the dataset [\"Crime Data from 2020 to Present\"](https://data.lacity.org/Public-Safety/Crime-Data-from-2020-to-Present/2nrs-mtv8), which covers crime incidents in Los Angeles between the years of 2020 and 2021. The original file has 28 columns and 220405 rows. The file has been pre-processed in [Jupyter Notebook](https://jupyter.org/), to remove some rows values and columns that will be not used in the analysis.\r\n",
        "\r\n",
        "Below are all the variables in the dataset, followed by its description:\r\n",
        "\r\n",
        "* `DR_NO` - Division of Records Number: Official file number made up of a 2 digit year, area ID, and 5 digits.\r\n",
        "* `DATE OCC` - Date of crime occurrence(YYYY-MM-DD)\r\n",
        "* `AREA` - The LAPD has 21 Community Police Stations referred to as Geographic Areas within the department. These Geographic Areas are sequentially numbered from 1-21.\r\n",
        "* `AREA NAME` - The 21 Geographic Areas or Patrol Divisions are also given a name designation that references a landmark or the surrounding community that it is responsible for.\r\n",
        "* `Rpt Dist No` - Code that represents a sub-area within a Geographic Area.\r\n",
        "* `Crm Cd` - Indicates the crime committed.\r\n",
        "* `Crm Cd Desc` - Defines the Crime Code provided.\r\n",
        "* `Vict Age` - Indicates the age of the victim.\r\n",
        "* `Vict Sex` - F: Female M: Male X: Unknown\r\n",
        "* `Vict Descent` - Descent Code: **A** - Other Asian **B** - Black **C** - Chinese **D** - Cambodian **F** - Filipino **G** - Guamanian **H** - Hispanic/Latin/Mexican **I** - American Indian/Alaskan Native **J** - Japanese **K** - Korean **L** - Laotian **O** - Other **P** - Pacific Islander **S** - Samoan **U** - Hawaiian **V** - Vietnamese **W** - White **X** - Unknown **Z** - Asian Indian\r\n",
        "* `Premis Cd` - The type of structure, vehicle, or location where the crime took place.\r\n",
        "* `Premis Desc` - Defines the Premise Code provided.\r\n",
        "* `Weapon Used Cd` - The type of weapon used in the crime. \r\n",
        "* `Weapon Desc` - Defines the Weapon Used Code provided.\r\n",
        "* `LOCATION` - Street address of crime incident rounded to the nearest hundred block to maintain anonymity.\r\n",
        "* `LAT` - Latitude Coordinate\r\n",
        "* `LON` - Longitude Coordinate"
      ]
    },
    {
      "cell_type": "markdown",
      "metadata": {
        "id": "cN_XID6W5kl2"
      },
      "source": [
        "## **Importing Libraries and Data**"
      ]
    },
    {
      "cell_type": "code",
      "metadata": {
        "colab": {
          "base_uri": "https://localhost:8080/"
        },
        "id": "kNoV-i6ZB_jd",
        "outputId": "671c2734-b161-4533-b19d-5ce8800ea754"
      },
      "source": [
        "# importing libraries and files from google drive\r\n",
        "\r\n",
        "import pandas as pd\r\n",
        "import matplotlib.pyplot as plt\r\n",
        "plt.style.use('tableau-colorblind10')\r\n",
        "%matplotlib inline\r\n",
        "from google.colab import drive\r\n",
        "drive.mount('/content/drive',force_remount=False)"
      ],
      "execution_count": null,
      "outputs": [
        {
          "output_type": "stream",
          "text": [
            "Mounted at /content/drive\n"
          ],
          "name": "stdout"
        }
      ]
    },
    {
      "cell_type": "code",
      "metadata": {
        "id": "43_3auz2LvTG"
      },
      "source": [
        "# creating the data frame and converting the 'DATE OCC' for DateTime format\r\n",
        "\r\n",
        "df = pd.read_csv('/content/drive/My Drive/Colab DataFrames/Crime_Data_from_2020_to_Present.csv')\r\n",
        "df['DATE OCC'] = pd.to_datetime(df['DATE OCC'],format='%Y-%m-%d')"
      ],
      "execution_count": null,
      "outputs": []
    },
    {
      "cell_type": "markdown",
      "metadata": {
        "id": "bmw3bxQnY3th"
      },
      "source": [
        "## **Preliminary Analysis**\r\n",
        "\r\n",
        "Before deep dive inside the data frame, we need to check his header, shape, variable types, column names, and the percentage of the missing values."
      ]
    },
    {
      "cell_type": "code",
      "metadata": {
        "colab": {
          "base_uri": "https://localhost:8080/",
          "height": 310
        },
        "id": "wayAeae_fQce",
        "outputId": "9697647e-d9cb-4f33-dd03-8a91be57bdc0"
      },
      "source": [
        "# checking the dataset header\r\n",
        "\r\n",
        "df.head()"
      ],
      "execution_count": null,
      "outputs": [
        {
          "output_type": "execute_result",
          "data": {
            "text/html": [
              "<div>\n",
              "<style scoped>\n",
              "    .dataframe tbody tr th:only-of-type {\n",
              "        vertical-align: middle;\n",
              "    }\n",
              "\n",
              "    .dataframe tbody tr th {\n",
              "        vertical-align: top;\n",
              "    }\n",
              "\n",
              "    .dataframe thead th {\n",
              "        text-align: right;\n",
              "    }\n",
              "</style>\n",
              "<table border=\"1\" class=\"dataframe\">\n",
              "  <thead>\n",
              "    <tr style=\"text-align: right;\">\n",
              "      <th></th>\n",
              "      <th>DR_NO</th>\n",
              "      <th>DATE OCC</th>\n",
              "      <th>AREA</th>\n",
              "      <th>AREA NAME</th>\n",
              "      <th>Rpt Dist No</th>\n",
              "      <th>Crm Cd</th>\n",
              "      <th>Crm Cd Desc</th>\n",
              "      <th>Vict Age</th>\n",
              "      <th>Vict Sex</th>\n",
              "      <th>Vict Descent</th>\n",
              "      <th>Premis Cd</th>\n",
              "      <th>Premis Desc</th>\n",
              "      <th>Weapon Used Cd</th>\n",
              "      <th>Weapon Desc</th>\n",
              "      <th>LOCATION</th>\n",
              "      <th>LAT</th>\n",
              "      <th>LON</th>\n",
              "    </tr>\n",
              "  </thead>\n",
              "  <tbody>\n",
              "    <tr>\n",
              "      <th>0</th>\n",
              "      <td>10304468</td>\n",
              "      <td>2020-01-08</td>\n",
              "      <td>3</td>\n",
              "      <td>Southwest</td>\n",
              "      <td>377</td>\n",
              "      <td>624</td>\n",
              "      <td>BATTERY - SIMPLE ASSAULT</td>\n",
              "      <td>36</td>\n",
              "      <td>F</td>\n",
              "      <td>B</td>\n",
              "      <td>501.0</td>\n",
              "      <td>SINGLE FAMILY DWELLING</td>\n",
              "      <td>400.0</td>\n",
              "      <td>STRONG-ARM (HANDS, FIST, FEET OR BODILY FORCE)</td>\n",
              "      <td>1100 W  39TH                         PL</td>\n",
              "      <td>34.0141</td>\n",
              "      <td>-118.2978</td>\n",
              "    </tr>\n",
              "    <tr>\n",
              "      <th>1</th>\n",
              "      <td>190101086</td>\n",
              "      <td>2020-01-01</td>\n",
              "      <td>1</td>\n",
              "      <td>Central</td>\n",
              "      <td>163</td>\n",
              "      <td>624</td>\n",
              "      <td>BATTERY - SIMPLE ASSAULT</td>\n",
              "      <td>25</td>\n",
              "      <td>M</td>\n",
              "      <td>H</td>\n",
              "      <td>102.0</td>\n",
              "      <td>SIDEWALK</td>\n",
              "      <td>500.0</td>\n",
              "      <td>UNKNOWN WEAPON/OTHER WEAPON</td>\n",
              "      <td>700 S  HILL                         ST</td>\n",
              "      <td>34.0459</td>\n",
              "      <td>-118.2545</td>\n",
              "    </tr>\n",
              "    <tr>\n",
              "      <th>2</th>\n",
              "      <td>201220752</td>\n",
              "      <td>2020-09-16</td>\n",
              "      <td>12</td>\n",
              "      <td>77th Street</td>\n",
              "      <td>1259</td>\n",
              "      <td>745</td>\n",
              "      <td>VANDALISM - MISDEAMEANOR ($399 OR UNDER)</td>\n",
              "      <td>62</td>\n",
              "      <td>M</td>\n",
              "      <td>B</td>\n",
              "      <td>502.0</td>\n",
              "      <td>MULTI-UNIT DWELLING (APARTMENT, DUPLEX, ETC)</td>\n",
              "      <td>NaN</td>\n",
              "      <td>NaN</td>\n",
              "      <td>700 E  73RD                         ST</td>\n",
              "      <td>33.9739</td>\n",
              "      <td>-118.2630</td>\n",
              "    </tr>\n",
              "    <tr>\n",
              "      <th>3</th>\n",
              "      <td>191501505</td>\n",
              "      <td>2020-01-01</td>\n",
              "      <td>15</td>\n",
              "      <td>N Hollywood</td>\n",
              "      <td>1543</td>\n",
              "      <td>745</td>\n",
              "      <td>VANDALISM - MISDEAMEANOR ($399 OR UNDER)</td>\n",
              "      <td>76</td>\n",
              "      <td>F</td>\n",
              "      <td>W</td>\n",
              "      <td>502.0</td>\n",
              "      <td>MULTI-UNIT DWELLING (APARTMENT, DUPLEX, ETC)</td>\n",
              "      <td>NaN</td>\n",
              "      <td>NaN</td>\n",
              "      <td>5400    CORTEEN                      PL</td>\n",
              "      <td>34.1685</td>\n",
              "      <td>-118.4019</td>\n",
              "    </tr>\n",
              "    <tr>\n",
              "      <th>4</th>\n",
              "      <td>191921269</td>\n",
              "      <td>2020-01-01</td>\n",
              "      <td>19</td>\n",
              "      <td>Mission</td>\n",
              "      <td>1998</td>\n",
              "      <td>740</td>\n",
              "      <td>VANDALISM - FELONY ($400 &amp; OVER, ALL CHURCH VA...</td>\n",
              "      <td>31</td>\n",
              "      <td>X</td>\n",
              "      <td>X</td>\n",
              "      <td>409.0</td>\n",
              "      <td>BEAUTY SUPPLY STORE</td>\n",
              "      <td>NaN</td>\n",
              "      <td>NaN</td>\n",
              "      <td>14400    TITUS                        ST</td>\n",
              "      <td>34.2198</td>\n",
              "      <td>-118.4468</td>\n",
              "    </tr>\n",
              "  </tbody>\n",
              "</table>\n",
              "</div>"
            ],
            "text/plain": [
              "       DR_NO   DATE OCC  ...      LAT       LON\n",
              "0   10304468 2020-01-08  ...  34.0141 -118.2978\n",
              "1  190101086 2020-01-01  ...  34.0459 -118.2545\n",
              "2  201220752 2020-09-16  ...  33.9739 -118.2630\n",
              "3  191501505 2020-01-01  ...  34.1685 -118.4019\n",
              "4  191921269 2020-01-01  ...  34.2198 -118.4468\n",
              "\n",
              "[5 rows x 17 columns]"
            ]
          },
          "metadata": {
            "tags": []
          },
          "execution_count": 3
        }
      ]
    },
    {
      "cell_type": "code",
      "metadata": {
        "colab": {
          "base_uri": "https://localhost:8080/"
        },
        "id": "2Zz_2v5tfX_q",
        "outputId": "800c14ae-74e4-4428-8a65-647435e4c07e"
      },
      "source": [
        "# dataframe volume and data types\r\n",
        "\r\n",
        "print('Rows:\\t{}'.format(df.shape[0]))\r\n",
        "print('Variables:\\t{}'.format(df.shape[1]))\r\n",
        "df.dtypes"
      ],
      "execution_count": null,
      "outputs": [
        {
          "output_type": "stream",
          "text": [
            "Rows:\t220405\n",
            "Variables:\t17\n"
          ],
          "name": "stdout"
        },
        {
          "output_type": "execute_result",
          "data": {
            "text/plain": [
              "DR_NO                      int64\n",
              "DATE OCC          datetime64[ns]\n",
              "AREA                       int64\n",
              "AREA NAME                 object\n",
              "Rpt Dist No                int64\n",
              "Crm Cd                     int64\n",
              "Crm Cd Desc               object\n",
              "Vict Age                   int64\n",
              "Vict Sex                  object\n",
              "Vict Descent              object\n",
              "Premis Cd                float64\n",
              "Premis Desc               object\n",
              "Weapon Used Cd           float64\n",
              "Weapon Desc               object\n",
              "LOCATION                  object\n",
              "LAT                      float64\n",
              "LON                      float64\n",
              "dtype: object"
            ]
          },
          "metadata": {
            "tags": []
          },
          "execution_count": 4
        }
      ]
    },
    {
      "cell_type": "code",
      "metadata": {
        "colab": {
          "base_uri": "https://localhost:8080/"
        },
        "id": "ib3KrYxHfwOM",
        "outputId": "1f05d047-c459-47a5-9e10-482ed4498280"
      },
      "source": [
        "# column names\r\n",
        "\r\n",
        "df.columns"
      ],
      "execution_count": null,
      "outputs": [
        {
          "output_type": "execute_result",
          "data": {
            "text/plain": [
              "Index(['DR_NO', 'DATE OCC', 'AREA', 'AREA NAME', 'Rpt Dist No', 'Crm Cd',\n",
              "       'Crm Cd Desc', 'Vict Age', 'Vict Sex', 'Vict Descent', 'Premis Cd',\n",
              "       'Premis Desc', 'Weapon Used Cd', 'Weapon Desc', 'LOCATION', 'LAT',\n",
              "       'LON'],\n",
              "      dtype='object')"
            ]
          },
          "metadata": {
            "tags": []
          },
          "execution_count": 5
        }
      ]
    },
    {
      "cell_type": "code",
      "metadata": {
        "colab": {
          "base_uri": "https://localhost:8080/"
        },
        "id": "VTy0uFBRf73L",
        "outputId": "a13e312a-8ef8-4e59-b109-fdcc715d4448"
      },
      "source": [
        "# missing values percentage\r\n",
        "\r\n",
        "(df.isnull().sum()).sort_values(ascending=False) / df.shape[0]"
      ],
      "execution_count": null,
      "outputs": [
        {
          "output_type": "execute_result",
          "data": {
            "text/plain": [
              "Weapon Desc       0.631528\n",
              "Weapon Used Cd    0.631528\n",
              "Vict Descent      0.131826\n",
              "Vict Sex          0.131807\n",
              "Premis Desc       0.000368\n",
              "Premis Cd         0.000014\n",
              "Crm Cd            0.000000\n",
              "DATE OCC          0.000000\n",
              "AREA              0.000000\n",
              "AREA NAME         0.000000\n",
              "Rpt Dist No       0.000000\n",
              "LON               0.000000\n",
              "Crm Cd Desc       0.000000\n",
              "Vict Age          0.000000\n",
              "LAT               0.000000\n",
              "LOCATION          0.000000\n",
              "DR_NO             0.000000\n",
              "dtype: float64"
            ]
          },
          "metadata": {
            "tags": []
          },
          "execution_count": 6
        }
      ]
    },
    {
      "cell_type": "markdown",
      "metadata": {
        "id": "wS91AviXpvYU"
      },
      "source": [
        "## **Missing Data**\r\n",
        "\r\n",
        "As we saw in the preliminary analysis, the dataset contains some blank rows in the columns `Weapon Desc`, `Weapon Used Cd`, `Vict Descent`, `Vict Sex`, `Premis Desc`, and `Premis Cd`. The empty values in the columns `Vict Descent`, `Vict Sex` and `Premis Desc` will be dropped out of the data frame, using `dropna` command. The other missing values will be filled with 'N/A'. I've opted to fill the values instead to remove them so that some crimes that don't have all the information will not be discarded."
      ]
    },
    {
      "cell_type": "code",
      "metadata": {
        "id": "ALrMF-LqqRf2"
      },
      "source": [
        "# removing blank values for 'Vict Descent', 'Vict Sex' and 'Premis Desc'\r\n",
        "\r\n",
        "df.dropna(subset=['Vict Descent', 'Vict Sex', 'Premis Desc'],inplace=True)"
      ],
      "execution_count": null,
      "outputs": []
    },
    {
      "cell_type": "code",
      "metadata": {
        "colab": {
          "base_uri": "https://localhost:8080/",
          "height": 615
        },
        "id": "GYFtHhebuAgG",
        "outputId": "5eeb4950-7315-40a9-9ab4-012bc903e80c"
      },
      "source": [
        "# adding the \"N/A\" text on blank values for 'Weapon Desc' and 'Weapon Used Cd'\r\n",
        "\r\n",
        "df.fillna(value='N/A')"
      ],
      "execution_count": null,
      "outputs": [
        {
          "output_type": "execute_result",
          "data": {
            "text/html": [
              "<div>\n",
              "<style scoped>\n",
              "    .dataframe tbody tr th:only-of-type {\n",
              "        vertical-align: middle;\n",
              "    }\n",
              "\n",
              "    .dataframe tbody tr th {\n",
              "        vertical-align: top;\n",
              "    }\n",
              "\n",
              "    .dataframe thead th {\n",
              "        text-align: right;\n",
              "    }\n",
              "</style>\n",
              "<table border=\"1\" class=\"dataframe\">\n",
              "  <thead>\n",
              "    <tr style=\"text-align: right;\">\n",
              "      <th></th>\n",
              "      <th>DR_NO</th>\n",
              "      <th>DATE OCC</th>\n",
              "      <th>AREA</th>\n",
              "      <th>AREA NAME</th>\n",
              "      <th>Rpt Dist No</th>\n",
              "      <th>Crm Cd</th>\n",
              "      <th>Crm Cd Desc</th>\n",
              "      <th>Vict Age</th>\n",
              "      <th>Vict Sex</th>\n",
              "      <th>Vict Descent</th>\n",
              "      <th>Premis Cd</th>\n",
              "      <th>Premis Desc</th>\n",
              "      <th>Weapon Used Cd</th>\n",
              "      <th>Weapon Desc</th>\n",
              "      <th>LOCATION</th>\n",
              "      <th>LAT</th>\n",
              "      <th>LON</th>\n",
              "    </tr>\n",
              "  </thead>\n",
              "  <tbody>\n",
              "    <tr>\n",
              "      <th>0</th>\n",
              "      <td>10304468</td>\n",
              "      <td>2020-01-08</td>\n",
              "      <td>3</td>\n",
              "      <td>Southwest</td>\n",
              "      <td>377</td>\n",
              "      <td>624</td>\n",
              "      <td>BATTERY - SIMPLE ASSAULT</td>\n",
              "      <td>36</td>\n",
              "      <td>F</td>\n",
              "      <td>B</td>\n",
              "      <td>501.0</td>\n",
              "      <td>SINGLE FAMILY DWELLING</td>\n",
              "      <td>400</td>\n",
              "      <td>STRONG-ARM (HANDS, FIST, FEET OR BODILY FORCE)</td>\n",
              "      <td>1100 W  39TH                         PL</td>\n",
              "      <td>34.0141</td>\n",
              "      <td>-118.2978</td>\n",
              "    </tr>\n",
              "    <tr>\n",
              "      <th>1</th>\n",
              "      <td>190101086</td>\n",
              "      <td>2020-01-01</td>\n",
              "      <td>1</td>\n",
              "      <td>Central</td>\n",
              "      <td>163</td>\n",
              "      <td>624</td>\n",
              "      <td>BATTERY - SIMPLE ASSAULT</td>\n",
              "      <td>25</td>\n",
              "      <td>M</td>\n",
              "      <td>H</td>\n",
              "      <td>102.0</td>\n",
              "      <td>SIDEWALK</td>\n",
              "      <td>500</td>\n",
              "      <td>UNKNOWN WEAPON/OTHER WEAPON</td>\n",
              "      <td>700 S  HILL                         ST</td>\n",
              "      <td>34.0459</td>\n",
              "      <td>-118.2545</td>\n",
              "    </tr>\n",
              "    <tr>\n",
              "      <th>2</th>\n",
              "      <td>201220752</td>\n",
              "      <td>2020-09-16</td>\n",
              "      <td>12</td>\n",
              "      <td>77th Street</td>\n",
              "      <td>1259</td>\n",
              "      <td>745</td>\n",
              "      <td>VANDALISM - MISDEAMEANOR ($399 OR UNDER)</td>\n",
              "      <td>62</td>\n",
              "      <td>M</td>\n",
              "      <td>B</td>\n",
              "      <td>502.0</td>\n",
              "      <td>MULTI-UNIT DWELLING (APARTMENT, DUPLEX, ETC)</td>\n",
              "      <td>N/A</td>\n",
              "      <td>N/A</td>\n",
              "      <td>700 E  73RD                         ST</td>\n",
              "      <td>33.9739</td>\n",
              "      <td>-118.2630</td>\n",
              "    </tr>\n",
              "    <tr>\n",
              "      <th>3</th>\n",
              "      <td>191501505</td>\n",
              "      <td>2020-01-01</td>\n",
              "      <td>15</td>\n",
              "      <td>N Hollywood</td>\n",
              "      <td>1543</td>\n",
              "      <td>745</td>\n",
              "      <td>VANDALISM - MISDEAMEANOR ($399 OR UNDER)</td>\n",
              "      <td>76</td>\n",
              "      <td>F</td>\n",
              "      <td>W</td>\n",
              "      <td>502.0</td>\n",
              "      <td>MULTI-UNIT DWELLING (APARTMENT, DUPLEX, ETC)</td>\n",
              "      <td>N/A</td>\n",
              "      <td>N/A</td>\n",
              "      <td>5400    CORTEEN                      PL</td>\n",
              "      <td>34.1685</td>\n",
              "      <td>-118.4019</td>\n",
              "    </tr>\n",
              "    <tr>\n",
              "      <th>4</th>\n",
              "      <td>191921269</td>\n",
              "      <td>2020-01-01</td>\n",
              "      <td>19</td>\n",
              "      <td>Mission</td>\n",
              "      <td>1998</td>\n",
              "      <td>740</td>\n",
              "      <td>VANDALISM - FELONY ($400 &amp; OVER, ALL CHURCH VA...</td>\n",
              "      <td>31</td>\n",
              "      <td>X</td>\n",
              "      <td>X</td>\n",
              "      <td>409.0</td>\n",
              "      <td>BEAUTY SUPPLY STORE</td>\n",
              "      <td>N/A</td>\n",
              "      <td>N/A</td>\n",
              "      <td>14400    TITUS                        ST</td>\n",
              "      <td>34.2198</td>\n",
              "      <td>-118.4468</td>\n",
              "    </tr>\n",
              "    <tr>\n",
              "      <th>...</th>\n",
              "      <td>...</td>\n",
              "      <td>...</td>\n",
              "      <td>...</td>\n",
              "      <td>...</td>\n",
              "      <td>...</td>\n",
              "      <td>...</td>\n",
              "      <td>...</td>\n",
              "      <td>...</td>\n",
              "      <td>...</td>\n",
              "      <td>...</td>\n",
              "      <td>...</td>\n",
              "      <td>...</td>\n",
              "      <td>...</td>\n",
              "      <td>...</td>\n",
              "      <td>...</td>\n",
              "      <td>...</td>\n",
              "      <td>...</td>\n",
              "    </tr>\n",
              "    <tr>\n",
              "      <th>220398</th>\n",
              "      <td>210405785</td>\n",
              "      <td>2021-02-17</td>\n",
              "      <td>4</td>\n",
              "      <td>Hollenbeck</td>\n",
              "      <td>411</td>\n",
              "      <td>330</td>\n",
              "      <td>BURGLARY FROM VEHICLE</td>\n",
              "      <td>42</td>\n",
              "      <td>M</td>\n",
              "      <td>J</td>\n",
              "      <td>101.0</td>\n",
              "      <td>STREET</td>\n",
              "      <td>N/A</td>\n",
              "      <td>N/A</td>\n",
              "      <td>SAN FERNANDO                 RD</td>\n",
              "      <td>34.0768</td>\n",
              "      <td>-118.2228</td>\n",
              "    </tr>\n",
              "    <tr>\n",
              "      <th>220399</th>\n",
              "      <td>211505411</td>\n",
              "      <td>2021-01-14</td>\n",
              "      <td>15</td>\n",
              "      <td>N Hollywood</td>\n",
              "      <td>1545</td>\n",
              "      <td>330</td>\n",
              "      <td>BURGLARY FROM VEHICLE</td>\n",
              "      <td>41</td>\n",
              "      <td>F</td>\n",
              "      <td>W</td>\n",
              "      <td>501.0</td>\n",
              "      <td>SINGLE FAMILY DWELLING</td>\n",
              "      <td>N/A</td>\n",
              "      <td>N/A</td>\n",
              "      <td>5000    LAUREL CANYON                BL</td>\n",
              "      <td>34.1613</td>\n",
              "      <td>-118.3965</td>\n",
              "    </tr>\n",
              "    <tr>\n",
              "      <th>220400</th>\n",
              "      <td>212104002</td>\n",
              "      <td>2021-01-01</td>\n",
              "      <td>21</td>\n",
              "      <td>Topanga</td>\n",
              "      <td>2115</td>\n",
              "      <td>230</td>\n",
              "      <td>ASSAULT WITH DEADLY WEAPON, AGGRAVATED ASSAULT</td>\n",
              "      <td>21</td>\n",
              "      <td>M</td>\n",
              "      <td>H</td>\n",
              "      <td>108.0</td>\n",
              "      <td>PARKING LOT</td>\n",
              "      <td>200</td>\n",
              "      <td>KNIFE WITH BLADE 6INCHES OR LESS</td>\n",
              "      <td>21600    ROSCOE                       BL</td>\n",
              "      <td>34.2197</td>\n",
              "      <td>-118.6010</td>\n",
              "    </tr>\n",
              "    <tr>\n",
              "      <th>220401</th>\n",
              "      <td>210904384</td>\n",
              "      <td>2021-01-12</td>\n",
              "      <td>9</td>\n",
              "      <td>Van Nuys</td>\n",
              "      <td>904</td>\n",
              "      <td>624</td>\n",
              "      <td>BATTERY - SIMPLE ASSAULT</td>\n",
              "      <td>35</td>\n",
              "      <td>M</td>\n",
              "      <td>H</td>\n",
              "      <td>101.0</td>\n",
              "      <td>STREET</td>\n",
              "      <td>400</td>\n",
              "      <td>STRONG-ARM (HANDS, FIST, FEET OR BODILY FORCE)</td>\n",
              "      <td>RAYMER</td>\n",
              "      <td>34.2140</td>\n",
              "      <td>-118.4629</td>\n",
              "    </tr>\n",
              "    <tr>\n",
              "      <th>220402</th>\n",
              "      <td>210105139</td>\n",
              "      <td>2021-01-24</td>\n",
              "      <td>1</td>\n",
              "      <td>Central</td>\n",
              "      <td>161</td>\n",
              "      <td>343</td>\n",
              "      <td>SHOPLIFTING-GRAND THEFT ($950.01 &amp; OVER)</td>\n",
              "      <td>0</td>\n",
              "      <td>M</td>\n",
              "      <td>W</td>\n",
              "      <td>406.0</td>\n",
              "      <td>OTHER STORE</td>\n",
              "      <td>N/A</td>\n",
              "      <td>N/A</td>\n",
              "      <td>700 S  FIGUEROA                     ST</td>\n",
              "      <td>34.0483</td>\n",
              "      <td>-118.2631</td>\n",
              "    </tr>\n",
              "  </tbody>\n",
              "</table>\n",
              "<p>191272 rows × 17 columns</p>\n",
              "</div>"
            ],
            "text/plain": [
              "            DR_NO   DATE OCC  ...      LAT       LON\n",
              "0        10304468 2020-01-08  ...  34.0141 -118.2978\n",
              "1       190101086 2020-01-01  ...  34.0459 -118.2545\n",
              "2       201220752 2020-09-16  ...  33.9739 -118.2630\n",
              "3       191501505 2020-01-01  ...  34.1685 -118.4019\n",
              "4       191921269 2020-01-01  ...  34.2198 -118.4468\n",
              "...           ...        ...  ...      ...       ...\n",
              "220398  210405785 2021-02-17  ...  34.0768 -118.2228\n",
              "220399  211505411 2021-01-14  ...  34.1613 -118.3965\n",
              "220400  212104002 2021-01-01  ...  34.2197 -118.6010\n",
              "220401  210904384 2021-01-12  ...  34.2140 -118.4629\n",
              "220402  210105139 2021-01-24  ...  34.0483 -118.2631\n",
              "\n",
              "[191272 rows x 17 columns]"
            ]
          },
          "metadata": {
            "tags": []
          },
          "execution_count": 8
        }
      ]
    },
    {
      "cell_type": "markdown",
      "metadata": {
        "id": "5Tr3KRHflDTj"
      },
      "source": [
        "## **Statistical Information About Crime Data in Los Angeles**\r\n",
        "\r\n",
        "After removing and cleaning some rows, we can jump to the statistical analysis of the dataset. Using simple functions, is it possible to extract the statistical resume, the most frequent crimes committed, crimes by month, and even graphical data around the information. "
      ]
    },
    {
      "cell_type": "code",
      "metadata": {
        "id": "A6SrR0m5oF0M",
        "colab": {
          "base_uri": "https://localhost:8080/",
          "height": 300
        },
        "outputId": "7ce06701-9737-4413-e4a1-16c379ef381d"
      },
      "source": [
        "# checking the statistical data for each column\r\n",
        "\r\n",
        "df.describe()"
      ],
      "execution_count": 19,
      "outputs": [
        {
          "output_type": "execute_result",
          "data": {
            "text/html": [
              "<div>\n",
              "<style scoped>\n",
              "    .dataframe tbody tr th:only-of-type {\n",
              "        vertical-align: middle;\n",
              "    }\n",
              "\n",
              "    .dataframe tbody tr th {\n",
              "        vertical-align: top;\n",
              "    }\n",
              "\n",
              "    .dataframe thead th {\n",
              "        text-align: right;\n",
              "    }\n",
              "</style>\n",
              "<table border=\"1\" class=\"dataframe\">\n",
              "  <thead>\n",
              "    <tr style=\"text-align: right;\">\n",
              "      <th></th>\n",
              "      <th>DR_NO</th>\n",
              "      <th>AREA</th>\n",
              "      <th>Rpt Dist No</th>\n",
              "      <th>Crm Cd</th>\n",
              "      <th>Vict Age</th>\n",
              "      <th>Premis Cd</th>\n",
              "      <th>Weapon Used Cd</th>\n",
              "      <th>LAT</th>\n",
              "      <th>LON</th>\n",
              "    </tr>\n",
              "  </thead>\n",
              "  <tbody>\n",
              "    <tr>\n",
              "      <th>count</th>\n",
              "      <td>1.658100e+05</td>\n",
              "      <td>165810.000000</td>\n",
              "      <td>165810.000000</td>\n",
              "      <td>165810.000000</td>\n",
              "      <td>165810.000000</td>\n",
              "      <td>165810.000000</td>\n",
              "      <td>74825.000000</td>\n",
              "      <td>165810.000000</td>\n",
              "      <td>165810.000000</td>\n",
              "    </tr>\n",
              "    <tr>\n",
              "      <th>mean</th>\n",
              "      <td>2.023793e+08</td>\n",
              "      <td>10.778976</td>\n",
              "      <td>1123.896562</td>\n",
              "      <td>509.642573</td>\n",
              "      <td>39.703872</td>\n",
              "      <td>317.596110</td>\n",
              "      <td>365.109803</td>\n",
              "      <td>33.882944</td>\n",
              "      <td>-117.692585</td>\n",
              "    </tr>\n",
              "    <tr>\n",
              "      <th>std</th>\n",
              "      <td>3.436301e+06</td>\n",
              "      <td>6.092974</td>\n",
              "      <td>609.140245</td>\n",
              "      <td>224.067100</td>\n",
              "      <td>15.471419</td>\n",
              "      <td>212.784807</td>\n",
              "      <td>119.847858</td>\n",
              "      <td>2.548555</td>\n",
              "      <td>8.844495</td>\n",
              "    </tr>\n",
              "    <tr>\n",
              "      <th>min</th>\n",
              "      <td>1.030447e+07</td>\n",
              "      <td>1.000000</td>\n",
              "      <td>101.000000</td>\n",
              "      <td>110.000000</td>\n",
              "      <td>2.000000</td>\n",
              "      <td>101.000000</td>\n",
              "      <td>101.000000</td>\n",
              "      <td>0.000000</td>\n",
              "      <td>-118.667600</td>\n",
              "    </tr>\n",
              "    <tr>\n",
              "      <th>25%</th>\n",
              "      <td>2.006171e+08</td>\n",
              "      <td>6.000000</td>\n",
              "      <td>627.000000</td>\n",
              "      <td>330.000000</td>\n",
              "      <td>28.000000</td>\n",
              "      <td>102.000000</td>\n",
              "      <td>312.000000</td>\n",
              "      <td>34.010000</td>\n",
              "      <td>-118.433800</td>\n",
              "    </tr>\n",
              "    <tr>\n",
              "      <th>50%</th>\n",
              "      <td>2.012231e+08</td>\n",
              "      <td>11.000000</td>\n",
              "      <td>1142.000000</td>\n",
              "      <td>440.000000</td>\n",
              "      <td>37.000000</td>\n",
              "      <td>221.000000</td>\n",
              "      <td>400.000000</td>\n",
              "      <td>34.058000</td>\n",
              "      <td>-118.325700</td>\n",
              "    </tr>\n",
              "    <tr>\n",
              "      <th>75%</th>\n",
              "      <td>2.018220e+08</td>\n",
              "      <td>16.000000</td>\n",
              "      <td>1637.000000</td>\n",
              "      <td>662.000000</td>\n",
              "      <td>50.000000</td>\n",
              "      <td>501.000000</td>\n",
              "      <td>400.000000</td>\n",
              "      <td>34.166000</td>\n",
              "      <td>-118.276100</td>\n",
              "    </tr>\n",
              "    <tr>\n",
              "      <th>max</th>\n",
              "      <td>2.199047e+08</td>\n",
              "      <td>21.000000</td>\n",
              "      <td>2198.000000</td>\n",
              "      <td>956.000000</td>\n",
              "      <td>99.000000</td>\n",
              "      <td>971.000000</td>\n",
              "      <td>516.000000</td>\n",
              "      <td>34.329300</td>\n",
              "      <td>0.000000</td>\n",
              "    </tr>\n",
              "  </tbody>\n",
              "</table>\n",
              "</div>"
            ],
            "text/plain": [
              "              DR_NO           AREA  ...            LAT            LON\n",
              "count  1.658100e+05  165810.000000  ...  165810.000000  165810.000000\n",
              "mean   2.023793e+08      10.778976  ...      33.882944    -117.692585\n",
              "std    3.436301e+06       6.092974  ...       2.548555       8.844495\n",
              "min    1.030447e+07       1.000000  ...       0.000000    -118.667600\n",
              "25%    2.006171e+08       6.000000  ...      34.010000    -118.433800\n",
              "50%    2.012231e+08      11.000000  ...      34.058000    -118.325700\n",
              "75%    2.018220e+08      16.000000  ...      34.166000    -118.276100\n",
              "max    2.199047e+08      21.000000  ...      34.329300       0.000000\n",
              "\n",
              "[8 rows x 9 columns]"
            ]
          },
          "metadata": {
            "tags": []
          },
          "execution_count": 19
        }
      ]
    },
    {
      "cell_type": "markdown",
      "metadata": {
        "id": "Ao0UD4x09nXt"
      },
      "source": [
        "Observing the resume above, we can check the count, minimum, maximum, percentual values, means, and standard deviation. The column Vict Age has an error where shows the minimum age for the victim is -1. We can easily remove this value using the function `drop` by setting a rule to remove specific values. It's important to point that some location fields with missing data are noted as (0°, 0°), and address fields are only provided to the nearest hundred block to maintain privacy."
      ]
    },
    {
      "cell_type": "code",
      "metadata": {
        "id": "CF-bKPcD_rHX"
      },
      "source": [
        "# removing the values ​​below one for the \"Vict Age\" column\r\n",
        "\r\n",
        "df.drop(df[df['Vict Age'] < 1].index, axis=0, inplace=True)"
      ],
      "execution_count": null,
      "outputs": []
    },
    {
      "cell_type": "markdown",
      "metadata": {
        "id": "RReU2n-xh7gb"
      },
      "source": [
        "Now, we will split our analysis into two parts. First, we will check the data more focused on people, to get the results about victims by age, sex, and race. After that, the analysis will be focused more on open wide concepts as the most frequent crimes, areas with more incidents, and weapons used."
      ]
    },
    {
      "cell_type": "markdown",
      "metadata": {
        "id": "smBbHetDcpn4"
      },
      "source": [
        "### **Victims Analysis**"
      ]
    },
    {
      "cell_type": "markdown",
      "metadata": {
        "id": "53-bilSep-0m"
      },
      "source": [
        "The results regarding victims by age were very close, analyzing the top 10  entries, is it possible to see a range between 25 and 35 years. This result directly reflects the average age of Los Angeles citizens. According to the [Census Reporter](https://censusreporter.org), people between 20-29 and 30-39 years represent 17 and 16%, respectively."
      ]
    },
    {
      "cell_type": "code",
      "metadata": {
        "colab": {
          "base_uri": "https://localhost:8080/",
          "height": 498
        },
        "id": "Pby36dBcZWuf",
        "outputId": "19c0d487-00c4-4ed7-d7e6-7776db4f3255"
      },
      "source": [
        "# victims by age\r\n",
        "\r\n",
        "df['Vict Age'].value_counts().iloc[:5].plot(kind='bar',title=\"Victims by Age\");\r\n",
        "df['Vict Age'].value_counts() / df.shape[0]"
      ],
      "execution_count": null,
      "outputs": [
        {
          "output_type": "execute_result",
          "data": {
            "text/plain": [
              "30    0.030782\n",
              "29    0.029033\n",
              "28    0.028695\n",
              "35    0.028575\n",
              "31    0.028370\n",
              "        ...   \n",
              "93    0.000163\n",
              "94    0.000163\n",
              "96    0.000127\n",
              "97    0.000103\n",
              "98    0.000090\n",
              "Name: Vict Age, Length: 98, dtype: float64"
            ]
          },
          "metadata": {
            "tags": []
          },
          "execution_count": 11
        },
        {
          "output_type": "display_data",
          "data": {
            "image/png": "[encoded data removed]",
            "text/plain": [
              "<Figure size 432x288 with 1 Axes>"
            ]
          },
          "metadata": {
            "tags": [],
            "needs_background": "light"
          }
        }
      ]
    },
    {
      "cell_type": "markdown",
      "metadata": {
        "id": "GTtTB3CHqReg"
      },
      "source": [
        "The results above, in percentual values are: \r\n",
        "\r\n",
        "\r\n",
        "\r\n",
        "*   30 Years, about 3.1%\r\n",
        "*   29 Years, about 3.0%\r\n",
        "*   28 Years, about 2.9%\r\n",
        "*   35 Years, about 2.8%\r\n",
        "*   31 Years, about 2.8%"
      ]
    },
    {
      "cell_type": "markdown",
      "metadata": {
        "id": "raP3uceIrcCo"
      },
      "source": [
        "The `Vict Sex` column presented four different categories in the dataset. According to the [Los Angeles Open Data](https://data.lacity.org) in the column description field, there are only three types: Female (F), Male (M), and Unknown (X). Therefore we will not consider the values shown as H in the results."
      ]
    },
    {
      "cell_type": "code",
      "metadata": {
        "id": "O0kEBLe--Qa2",
        "colab": {
          "base_uri": "https://localhost:8080/",
          "height": 369
        },
        "outputId": "0eb2bb8b-96a6-4558-ac50-c8e40b83a121"
      },
      "source": [
        "# victims by sex\r\n",
        "\r\n",
        "df['Vict Sex'].value_counts().iloc[:3].plot(kind='bar', title='Victims by Sex');\r\n",
        "df['Vict Sex'].value_counts() / df.shape[0]"
      ],
      "execution_count": null,
      "outputs": [
        {
          "output_type": "execute_result",
          "data": {
            "text/plain": [
              "M    0.518907\n",
              "F    0.470575\n",
              "X    0.010422\n",
              "H    0.000096\n",
              "Name: Vict Sex, dtype: float64"
            ]
          },
          "metadata": {
            "tags": []
          },
          "execution_count": 12
        },
        {
          "output_type": "display_data",
          "data": {
            "image/png": "[encoded data removed]",
            "text/plain": [
              "<Figure size 432x288 with 1 Axes>"
            ]
          },
          "metadata": {
            "tags": [],
            "needs_background": "light"
          }
        }
      ]
    },
    {
      "cell_type": "markdown",
      "metadata": {
        "id": "pP60xkSfv5qI"
      },
      "source": [
        "The results above in percentual values are:\r\n",
        "\r\n",
        "\r\n",
        "*   Male (M), about 51.9%\r\n",
        "*   Female (F), about 47.1%\r\n",
        "*   Unknown (X), about 1.04%\r\n",
        "\r\n",
        "\r\n",
        "\r\n"
      ]
    },
    {
      "cell_type": "markdown",
      "metadata": {
        "id": "0bZHvV6WierS"
      },
      "source": [
        "The city of Los Angeles was founded by Spanish discoverers and was also part of the Mexican territory. After the treaty of Guadalupe Hidalgo, the city and the whole State of California was incorporated as American territory. As a result of the process, and other events like the gold rush and petroleum extraction in California, the city of Los Angeles has inherited an enormous ethnic diversity, all this miscegenation is very evident and makes racial conflicts more intense than in other cities."
      ]
    },
    {
      "cell_type": "code",
      "metadata": {
        "colab": {
          "base_uri": "https://localhost:8080/",
          "height": 638
        },
        "id": "0RbQlqGZIR_d",
        "outputId": "5b17a8a2-6245-4d80-b5f4-438afaed17bc"
      },
      "source": [
        " # victims by descent race \r\n",
        "\r\n",
        "df['Vict Descent'].value_counts().iloc[:5].plot(kind='bar',title=\"Victims by Descent Race\");\r\n",
        "df['Vict Descent'].value_counts() / df.shape[0]"
      ],
      "execution_count": null,
      "outputs": [
        {
          "output_type": "execute_result",
          "data": {
            "text/plain": [
              "H    0.401188\n",
              "W    0.260720\n",
              "B    0.186889\n",
              "O    0.089675\n",
              "A    0.028762\n",
              "X    0.018443\n",
              "K    0.005060\n",
              "F    0.003311\n",
              "C    0.002611\n",
              "J    0.001074\n",
              "V    0.000766\n",
              "I    0.000639\n",
              "Z    0.000277\n",
              "P    0.000241\n",
              "U    0.000121\n",
              "G    0.000109\n",
              "S    0.000048\n",
              "D    0.000036\n",
              "L    0.000030\n",
              "Name: Vict Descent, dtype: float64"
            ]
          },
          "metadata": {
            "tags": []
          },
          "execution_count": 13
        },
        {
          "output_type": "display_data",
          "data": {
            "image/png": "[encoded data removed]",
            "text/plain": [
              "<Figure size 432x288 with 1 Axes>"
            ]
          },
          "metadata": {
            "tags": [],
            "needs_background": "light"
          }
        }
      ]
    },
    {
      "cell_type": "markdown",
      "metadata": {
        "id": "9YTL5R_Z1PKj"
      },
      "source": [
        "The results of the graph above exemplify well the diversity present in the city, the percentage values for crimes by ethnicity are as follows:\r\n",
        "\r\n",
        "* Hispanic/Latin/Mexican (H), about 40.1%\r\n",
        "* White (W), about 26.1%\r\n",
        "* Black (B), about 18.7%\r\n",
        "* Other (O), about 8.97%\r\n",
        "* Other Asian (A), about 2.88%"
      ]
    },
    {
      "cell_type": "markdown",
      "metadata": {
        "id": "8bnI-P2ghvDR"
      },
      "source": [
        "### **Crime Analysis**"
      ]
    },
    {
      "cell_type": "markdown",
      "metadata": {
        "id": "KdMC2xHHA9S2"
      },
      "source": [
        "Regarding the crimes committed in the city of Los Angeles, five types have a greater prominence due to the number of occurrences, among the crimes committed between 2020 and 2021 the most frequent are listed in the chart below."
      ]
    },
    {
      "cell_type": "code",
      "metadata": {
        "id": "EUx1jsGhAsOY",
        "colab": {
          "base_uri": "https://localhost:8080/",
          "height": 495
        },
        "outputId": "8ff9dc14-b089-4cb0-800b-0aeba232865f"
      },
      "source": [
        "# most frequent crimes\r\n",
        "\r\n",
        "df['Crm Cd Desc'].value_counts().iloc[:5].sort_values().plot(kind='barh',title=\"Most Frequent Crimes\");\r\n",
        "df['Crm Cd Desc'].value_counts() / df.shape[0]"
      ],
      "execution_count": null,
      "outputs": [
        {
          "output_type": "execute_result",
          "data": {
            "text/plain": [
              "BATTERY - SIMPLE ASSAULT                                   0.108781\n",
              "BURGLARY FROM VEHICLE                                      0.083927\n",
              "ASSAULT WITH DEADLY WEAPON, AGGRAVATED ASSAULT             0.075394\n",
              "INTIMATE PARTNER - SIMPLE ASSAULT                          0.072836\n",
              "VANDALISM - FELONY ($400 & OVER, ALL CHURCH VANDALISMS)    0.064405\n",
              "                                                             ...   \n",
              "PANDERING                                                  0.000006\n",
              "GRAND THEFT / INSURANCE FRAUD                              0.000006\n",
              "PETTY THEFT - AUTO REPAIR                                  0.000006\n",
              "TILL TAP - GRAND THEFT ($950.01 & OVER)                    0.000006\n",
              "LYNCHING - ATTEMPTED                                       0.000006\n",
              "Name: Crm Cd Desc, Length: 127, dtype: float64"
            ]
          },
          "metadata": {
            "tags": []
          },
          "execution_count": 14
        },
        {
          "output_type": "display_data",
          "data": {
            "image/png": "[encoded data removed]",
            "text/plain": [
              "<Figure size 432x288 with 1 Axes>"
            ]
          },
          "metadata": {
            "tags": [],
            "needs_background": "light"
          }
        }
      ]
    },
    {
      "cell_type": "markdown",
      "metadata": {
        "id": "eAWP3CTGBA2X"
      },
      "source": [
        "The resuls above, in percentual values are:\r\n",
        "\r\n",
        "* Battery - Simple Assault, about 10.9%\r\n",
        "* Burglary from Vehicle, about 8.39%\r\n",
        "* Assault With Deadly Weapon, about 7.54%\r\n",
        "* Intimidate Partner, about 7.28%\r\n",
        "* Vandalism, about 6.44%"
      ]
    },
    {
      "cell_type": "markdown",
      "metadata": {
        "id": "YZzW3mcAHJZY"
      },
      "source": [
        "The Los Angeles Police Department (LAPD) has a division for the police station by communities, where provides general information and assistance, there are 21 geographical areas citywide. Keep in mind the addresses fields aren't exactly as is, because the LAPD keeps the record to the nearest hundred block to maintain privacy. According to the data frame, the communities where most crimes committed are:"
      ]
    },
    {
      "cell_type": "code",
      "metadata": {
        "colab": {
          "base_uri": "https://localhost:8080/",
          "height": 674
        },
        "id": "kwhbXquJLUz2",
        "outputId": "9ec15bb4-d28f-4bdd-a2b0-09f6e4835c68"
      },
      "source": [
        "# areas with most crimes\r\n",
        "\r\n",
        "df['AREA NAME'].value_counts().iloc[:5].sort_values().plot(kind='barh',title=\"Areas with Most Crimes Committed\");\r\n",
        "df['AREA NAME'].value_counts() / df.shape[0]"
      ],
      "execution_count": null,
      "outputs": [
        {
          "output_type": "execute_result",
          "data": {
            "text/plain": [
              "77th Street    0.067632\n",
              "Southwest      0.062819\n",
              "Central        0.059665\n",
              "Pacific        0.055389\n",
              "Southeast      0.054593\n",
              "Wilshire       0.051656\n",
              "Hollywood      0.050612\n",
              "N Hollywood    0.049400\n",
              "West LA        0.048290\n",
              "Topanga        0.046390\n",
              "Van Nuys       0.046366\n",
              "Rampart        0.045824\n",
              "Olympic        0.045353\n",
              "Newton         0.044931\n",
              "Mission        0.043073\n",
              "Harbor         0.041379\n",
              "Northeast      0.039726\n",
              "West Valley    0.038966\n",
              "Devonshire     0.037350\n",
              "Foothill       0.035420\n",
              "Hollenbeck     0.035167\n",
              "Name: AREA NAME, dtype: float64"
            ]
          },
          "metadata": {
            "tags": []
          },
          "execution_count": 15
        },
        {
          "output_type": "display_data",
          "data": {
            "image/png": "[encoded data removed]",
            "text/plain": [
              "<Figure size 432x288 with 1 Axes>"
            ]
          },
          "metadata": {
            "tags": [],
            "needs_background": "light"
          }
        }
      ]
    },
    {
      "cell_type": "markdown",
      "metadata": {
        "id": "AUmcee_YHX6R"
      },
      "source": [
        "The communities with most incidents in percentual values as shown above are:\r\n",
        "\r\n",
        "* 77th Street Area, about 6.76%\r\n",
        "* Southwest Area, about 6.28%\r\n",
        "* Central Area, about 5.97%\r\n",
        "* Pacific Area, about 5.54%\r\n",
        "* Southeast Area, about 5.46%"
      ]
    },
    {
      "cell_type": "markdown",
      "metadata": {
        "id": "h17-JtK1g6Sw"
      },
      "source": [
        "The laws about the use of guns in Los Angeles allow that you have a gun, but it isn't possible to port it unless you have a permit for that. California state has one of the most rigorous laws for gun control in the country, due to school incidents and mass shootings the laws get stricter."
      ]
    },
    {
      "cell_type": "code",
      "metadata": {
        "colab": {
          "base_uri": "https://localhost:8080/",
          "height": 495
        },
        "id": "Skw1jhNxP5cD",
        "outputId": "d3135b12-a887-4114-9666-2bcbea2dda6a"
      },
      "source": [
        "# weapons used in incidents\r\n",
        "\r\n",
        "df['Weapon Desc'].value_counts().iloc[:5].sort_values().plot(kind='barh',title=\"Weapons Used in Crimes\");\r\n",
        "df['Weapon Desc'].value_counts() / df.shape[0]"
      ],
      "execution_count": null,
      "outputs": [
        {
          "output_type": "execute_result",
          "data": {
            "text/plain": [
              "STRONG-ARM (HANDS, FIST, FEET OR BODILY FORCE)    0.249352\n",
              "UNKNOWN WEAPON/OTHER WEAPON                       0.045419\n",
              "VERBAL THREAT                                     0.033219\n",
              "HAND GUN                                          0.024341\n",
              "KNIFE WITH BLADE 6INCHES OR LESS                  0.009776\n",
              "                                                    ...   \n",
              "ANTIQUE FIREARM                                   0.000006\n",
              "HECKLER & KOCH 91 SEMIAUTOMATIC ASSAULT RIFLE     0.000006\n",
              "MAC-10 SEMIAUTOMATIC ASSAULT WEAPON               0.000006\n",
              "BLACKJACK                                         0.000006\n",
              "RELIC FIREARM                                     0.000006\n",
              "Name: Weapon Desc, Length: 78, dtype: float64"
            ]
          },
          "metadata": {
            "tags": []
          },
          "execution_count": 16
        },
        {
          "output_type": "display_data",
          "data": {
            "image/png": "[encoded data removed]",
            "text/plain": [
              "<Figure size 432x288 with 1 Axes>"
            ]
          },
          "metadata": {
            "tags": [],
            "needs_background": "light"
          }
        }
      ]
    },
    {
      "cell_type": "markdown",
      "metadata": {
        "id": "QVZs94OFac-I"
      },
      "source": [
        "The graph results, in percentage values, are equal to:\r\n",
        "\r\n",
        "* Strong-Arm, about 24,9%\r\n",
        "* Unknown Weapon, about 4.54%\r\n",
        "* Verbal Threat, about 3.32%\r\n",
        "* Hand Gun, about 2.43%\r\n",
        "* Knives, about 0.98%"
      ]
    },
    {
      "cell_type": "markdown",
      "metadata": {
        "id": "fcM69TWpZMae"
      },
      "source": [
        "## **Conclusion**"
      ]
    },
    {
      "cell_type": "markdown",
      "metadata": {
        "id": "pViL7jv1DZM6"
      },
      "source": [
        "The use of data science allows us to have an open wide view about many themes, analyzing databases of the past and even of the present, it's possible to extract relevant information to taking decisions. In the specific case of public security, it's possible to identify the places with the most crime incidents, increase gun control and planning strategies to decrease violence, and bring more security for the local people."
      ]
    }
  ]
}